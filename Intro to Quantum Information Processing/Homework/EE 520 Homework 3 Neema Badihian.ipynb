{
 "cells": [
  {
   "cell_type": "markdown",
   "metadata": {},
   "source": [
    "<h1>EE 520 Homework 3</h1>\n",
    "<h2>Neema Badihian</h2>\n",
    "<h2>09/16/2021</h2>"
   ]
  },
  {
   "cell_type": "code",
   "execution_count": 1,
   "metadata": {},
   "outputs": [],
   "source": [
    "import numpy as np\n",
    "from numpy import linalg as la"
   ]
  },
  {
   "cell_type": "code",
   "execution_count": 2,
   "metadata": {},
   "outputs": [],
   "source": [
    "M1 = np.array([[np.exp((2j*np.pi) / 10)**(-4), 0], [0, np.exp((2j*np.pi) / 10)**(3)]])"
   ]
  },
  {
   "cell_type": "code",
   "execution_count": 3,
   "metadata": {},
   "outputs": [],
   "source": [
    "ZT = np.array([[1 / ((1 + np.sqrt(5)) / 2), 1 / ((1 + np.sqrt(5)) / 2)],\n",
    "               [1 / ((1 + np.sqrt(5)) / 2), -1 / ((1 + np.sqrt(5)) / 2)]])"
   ]
  },
  {
   "cell_type": "code",
   "execution_count": 4,
   "metadata": {},
   "outputs": [],
   "source": [
    "M2 = la.multi_dot([ZT, M1, ZT])"
   ]
  },
  {
   "cell_type": "code",
   "execution_count": 5,
   "metadata": {},
   "outputs": [
    {
     "data": {
      "text/plain": [
       "array([[-0.80901699-0.58778525j,  0.        +0.j        ],\n",
       "       [ 0.        +0.j        , -0.30901699+0.95105652j]])"
      ]
     },
     "execution_count": 5,
     "metadata": {},
     "output_type": "execute_result"
    }
   ],
   "source": [
    "M1"
   ]
  },
  {
   "cell_type": "code",
   "execution_count": 6,
   "metadata": {},
   "outputs": [
    {
     "data": {
      "text/plain": [
       "array([[-0.42705098+0.13875728j, -0.19098301-0.58778525j],\n",
       "       [-0.19098301-0.58778525j, -0.42705098+0.13875728j]])"
      ]
     },
     "execution_count": 6,
     "metadata": {},
     "output_type": "execute_result"
    }
   ],
   "source": [
    "M2"
   ]
  },
  {
   "cell_type": "code",
   "execution_count": 7,
   "metadata": {},
   "outputs": [],
   "source": [
    "M1i = la.inv(M1)"
   ]
  },
  {
   "cell_type": "code",
   "execution_count": 8,
   "metadata": {},
   "outputs": [],
   "source": [
    "M2i = la.inv(M2)"
   ]
  },
  {
   "cell_type": "code",
   "execution_count": 9,
   "metadata": {},
   "outputs": [
    {
     "data": {
      "text/plain": [
       "array([[-0.80901699+0.58778525j, -0.        +0.j        ],\n",
       "       [ 0.        -0.j        , -0.30901699-0.95105652j]])"
      ]
     },
     "execution_count": 9,
     "metadata": {},
     "output_type": "execute_result"
    }
   ],
   "source": [
    "M1i"
   ]
  },
  {
   "cell_type": "code",
   "execution_count": 10,
   "metadata": {},
   "outputs": [
    {
     "data": {
      "text/plain": [
       "array([[-0.73176275-0.23776413j, -0.32725425+1.00718501j],\n",
       "       [-0.32725425+1.00718501j, -0.73176275-0.23776413j]])"
      ]
     },
     "execution_count": 10,
     "metadata": {},
     "output_type": "execute_result"
    }
   ],
   "source": [
    "M2i"
   ]
  },
  {
   "cell_type": "code",
   "execution_count": 11,
   "metadata": {},
   "outputs": [],
   "source": [
    "allArr = np.array([M1, M2, M1i, M2i])"
   ]
  },
  {
   "cell_type": "code",
   "execution_count": 12,
   "metadata": {},
   "outputs": [
    {
     "name": "stdout",
     "output_type": "stream",
     "text": [
      "i = 1, j = 1, k = 1, l = 1, m = 1\n"
     ]
    }
   ],
   "source": [
    "ans = None\n",
    "ansFound = False\n",
    "numOfMults = 10\n",
    "multStr = \"\"\n",
    "for i in range(allArr[0].size):\n",
    "    for j in range(allArr[0].size):\n",
    "        ans = la.multi_dot([allArr[i], allArr[j]])\n",
    "        if np.abs(ans[0,0]) < 0.000001 and np.abs(ans[1,1]) < 0.000001 and numOfMults > 2:\n",
    "            numOfMults = 2\n",
    "            ansFound = True\n",
    "            multStr = f\"i = {i}, j = {j}\"\n",
    "            break\n",
    "        for k in range(allArr[0].size):\n",
    "            ans = la.multi_dot([allArr[i], allArr[j], allArr[k]])\n",
    "            if np.abs(ans[0,0]) < 0.000001 and np.abs(ans[1,1]) < 0.000001 and numOfMults > 3:\n",
    "                numOfMults = 3\n",
    "                multStr = f\"i = {i}, j = {j}, k = {k}\"\n",
    "                break\n",
    "            for l in range(allArr[0].size):\n",
    "                ans = la.multi_dot([allArr[i], allArr[j], allArr[k], allArr[l]])\n",
    "                if np.abs(ans[0,0]) < 0.000001 and np.abs(ans[1,1]) < 0.000001 and numOfMults > 4:\n",
    "                    numOfMults = 4\n",
    "                    multStr = f\"i = {i}, j = {j}, k = {k}, l = {l}\"\n",
    "                    break\n",
    "                for m in range(allArr[0].size):\n",
    "                    ans = la.multi_dot([allArr[i], allArr[j], allArr[k], allArr[l], allArr[m]])\n",
    "                    if np.abs(ans[0,0]) < 0.000001 and np.abs(ans[1,1]) < 0.000001 and numOfMults > 5:\n",
    "                        numOfMults = 5\n",
    "                        multStr = f\"i = {i}, j = {j}, k = {k}, l = {l}, m = {m}\"\n",
    "                        break\n",
    "                    for n in range(allArr[0].size):\n",
    "                        ans = la.multi_dot([allArr[i], allArr[j], allArr[k], allArr[l], allArr[m], allArr[n]])\n",
    "                        if np.abs(ans[0,0]) < 0.000001 and np.abs(ans[1,1]) < 0.000001 and numOfMults > 6:\n",
    "                            numOfMults = 6\n",
    "                            multStr = f\"i = {i}, j = {j}, k = {k}, l = {l}, m = {m}, n = {n}\"\n",
    "                            break\n",
    "                        for x in range(allArr[0].size):\n",
    "                            ans = la.multi_dot([allArr[i], allArr[j], allArr[k], allArr[l], allArr[m], allArr[n],\n",
    "                                                allArr[x]])\n",
    "                            if np.abs(ans[0,0]) < 0.000001 and np.abs(ans[1,1]) < 0.000001 and numOfMults > 7:\n",
    "                                numOfMults = 7\n",
    "                                multStr = f\"i = {i}, j = {j}, k = {k}, l = {l}, m = {m}, n = {n}, x = {x}\"\n",
    "                                break\n",
    "                            for y in range(allArr[0].size):\n",
    "                                ans = la.multi_dot([allArr[i], allArr[j], allArr[k], allArr[l], allArr[m], allArr[n],\n",
    "                                                    allArr[x], allArr[y]])\n",
    "                                if np.abs(ans[0,0]) < 0.000001 and np.abs(ans[1,1]) < 0.000001 and numOfMults > 8:\n",
    "                                    numOfMults = 8\n",
    "                                    multStr = f\"i = {i}, j = {j}, k = {k}, l = {l}, m = {m}, n = {n}, x = {x}, y = {y}\"\n",
    "                                    break\n",
    "\n",
    "print(multStr)"
   ]
  },
  {
   "cell_type": "code",
   "execution_count": 13,
   "metadata": {},
   "outputs": [
    {
     "data": {
      "text/plain": [
       "array([[-1.31838984e-16+5.55111512e-17j,  2.60179800e-01-5.20417043e-17j],\n",
       "       [ 2.60179800e-01-5.20417043e-17j, -1.31838984e-16+5.55111512e-17j]])"
      ]
     },
     "execution_count": 13,
     "metadata": {},
     "output_type": "execute_result"
    }
   ],
   "source": [
    "la.multi_dot([M2, M2, M2, M2, M2])"
   ]
  },
  {
   "cell_type": "code",
   "execution_count": null,
   "metadata": {},
   "outputs": [],
   "source": []
  }
 ],
 "metadata": {
  "interpreter": {
   "hash": "413796c6c8d0b5423a57f8f0e403532df8fa8a17746bb6e118aada8b6ed2c2e7"
  },
  "kernelspec": {
   "display_name": "Python 3",
   "language": "python",
   "name": "python3"
  },
  "language_info": {
   "codemirror_mode": {
    "name": "ipython",
    "version": 3
   },
   "file_extension": ".py",
   "mimetype": "text/x-python",
   "name": "python",
   "nbconvert_exporter": "python",
   "pygments_lexer": "ipython3",
   "version": "3.8.8"
  }
 },
 "nbformat": 4,
 "nbformat_minor": 2
}
