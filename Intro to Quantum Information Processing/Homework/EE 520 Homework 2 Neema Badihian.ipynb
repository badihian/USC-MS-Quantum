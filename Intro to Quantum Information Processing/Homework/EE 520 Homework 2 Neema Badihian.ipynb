{
 "cells": [
  {
   "cell_type": "code",
   "execution_count": 3,
   "metadata": {},
   "outputs": [],
   "source": [
    "import numpy as np"
   ]
  },
  {
   "cell_type": "markdown",
   "metadata": {},
   "source": [
    "<h2>Part A</h2>"
   ]
  },
  {
   "cell_type": "code",
   "execution_count": 4,
   "metadata": {},
   "outputs": [
    {
     "name": "stdout",
     "output_type": "stream",
     "text": [
      "|0^1>\n",
      "------\n",
      "[[1.]\n",
      " [0.]]\n",
      "\n",
      "|0^2>\n",
      "------\n",
      "[[1.]\n",
      " [0.]\n",
      " [0.]\n",
      " [0.]]\n",
      "\n",
      "|0^3>\n",
      "------\n",
      "[[1.]\n",
      " [0.]\n",
      " [0.]\n",
      " [0.]\n",
      " [0.]\n",
      " [0.]\n",
      " [0.]\n",
      " [0.]]\n",
      "\n"
     ]
    }
   ],
   "source": [
    "def initialize0s(n):\n",
    "    O = np.zeros((2**n, 1)) ## create a zero vector with 2**n rows and 1 column\n",
    "    O[0][0] = 1 ## set the first value in the vector to 1\n",
    "    return O\n",
    "\n",
    "print(f\"|0^1>\\n------\\n{initialize0s(1)}\\n\")\n",
    "print(f\"|0^2>\\n------\\n{initialize0s(2)}\\n\")\n",
    "print(f\"|0^3>\\n------\\n{initialize0s(3)}\\n\")"
   ]
  },
  {
   "cell_type": "markdown",
   "metadata": {},
   "source": [
    "<h2>Part B</h2>"
   ]
  },
  {
   "cell_type": "code",
   "execution_count": 5,
   "metadata": {},
   "outputs": [],
   "source": [
    "def cnot(i, j, n):\n",
    "    if i == j or i > n or j > n: return None\n",
    "    X = np.zeros((2**n, 2**n))\n",
    "    for k in range(2**n):\n",
    "        if k & (1 << (n - i)): ## check if qubit i of current index is active\n",
    "            m = k ^ (1 << (n - j)) ## flip the qubit j of current index\n",
    "        else:\n",
    "            m = k ## the identity\n",
    "        X[m, k] = 1\n",
    "    return X"
   ]
  },
  {
   "cell_type": "code",
   "execution_count": 6,
   "metadata": {},
   "outputs": [
    {
     "name": "stdout",
     "output_type": "stream",
     "text": [
      "i = 2, j = 1, n = 2\n",
      "----------------\n",
      "[[1. 0. 0. 0.]\n",
      " [0. 0. 0. 1.]\n",
      " [0. 0. 1. 0.]\n",
      " [0. 1. 0. 0.]]\n",
      "\n",
      "i = 1, j = 2, n = 3\n",
      "----------------\n",
      "[[1. 0. 0. 0.]\n",
      " [0. 1. 0. 0.]\n",
      " [0. 0. 0. 1.]\n",
      " [0. 0. 1. 0.]]\n",
      "\n"
     ]
    }
   ],
   "source": [
    "print(f\"i = 2, j = 1, n = 2\\n----------------\\n{cnot(2, 1, 2)}\\n\")\n",
    "print(f\"i = 1, j = 2, n = 3\\n----------------\\n{cnot(1, 2, 2)}\\n\")"
   ]
  },
  {
   "cell_type": "code",
   "execution_count": 7,
   "metadata": {},
   "outputs": [
    {
     "name": "stdout",
     "output_type": "stream",
     "text": [
      "i = 3, j = 2, n = 3\n",
      "----------------\n",
      "[[1. 0. 0. 0. 0. 0. 0. 0.]\n",
      " [0. 0. 0. 1. 0. 0. 0. 0.]\n",
      " [0. 0. 1. 0. 0. 0. 0. 0.]\n",
      " [0. 1. 0. 0. 0. 0. 0. 0.]\n",
      " [0. 0. 0. 0. 1. 0. 0. 0.]\n",
      " [0. 0. 0. 0. 0. 0. 0. 1.]\n",
      " [0. 0. 0. 0. 0. 0. 1. 0.]\n",
      " [0. 0. 0. 0. 0. 1. 0. 0.]]\n",
      "\n",
      "i = 3, j = 4, n = 3\n",
      "----------------\n",
      "[[1. 0. 0. 0. 0. 0. 0. 0.]\n",
      " [0. 1. 0. 0. 0. 0. 0. 0.]\n",
      " [0. 0. 0. 1. 0. 0. 0. 0.]\n",
      " [0. 0. 1. 0. 0. 0. 0. 0.]\n",
      " [0. 0. 0. 0. 1. 0. 0. 0.]\n",
      " [0. 0. 0. 0. 0. 1. 0. 0.]\n",
      " [0. 0. 0. 0. 0. 0. 0. 1.]\n",
      " [0. 0. 0. 0. 0. 0. 1. 0.]]\n",
      "\n"
     ]
    }
   ],
   "source": [
    "print(f\"i = 3, j = 2, n = 3\\n----------------\\n{cnot(3, 2, 3)}\\n\")\n",
    "print(f\"i = 3, j = 4, n = 3\\n----------------\\n{cnot(2, 3, 3)}\\n\")"
   ]
  },
  {
   "cell_type": "markdown",
   "metadata": {},
   "source": [
    "<h2>Part C</h2>"
   ]
  },
  {
   "cell_type": "code",
   "execution_count": 15,
   "metadata": {},
   "outputs": [],
   "source": [
    "def unitary1(U, j, n):\n",
    "    if j == 1:\n",
    "        U1 = U\n",
    "    else:\n",
    "        U1 = np.identity(2)\n",
    "\n",
    "    for i in range(n):\n",
    "        if i > 0 and i+1 == j:\n",
    "            U1 = np.kron(U1, U)\n",
    "        elif i > 0 and i+1 != j:\n",
    "            U1 = np.kron(U1, np.identity(2))\n",
    "    \n",
    "    return U1"
   ]
  },
  {
   "cell_type": "code",
   "execution_count": 16,
   "metadata": {},
   "outputs": [],
   "source": [
    "test = unitary1(cnot(1, 2, 2), 2, 2)"
   ]
  },
  {
   "cell_type": "code",
   "execution_count": 17,
   "metadata": {},
   "outputs": [
    {
     "data": {
      "text/plain": [
       "array([[1., 0., 0., 0., 0., 0., 0., 0.],\n",
       "       [0., 1., 0., 0., 0., 0., 0., 0.],\n",
       "       [0., 0., 0., 1., 0., 0., 0., 0.],\n",
       "       [0., 0., 1., 0., 0., 0., 0., 0.],\n",
       "       [0., 0., 0., 0., 1., 0., 0., 0.],\n",
       "       [0., 0., 0., 0., 0., 1., 0., 0.],\n",
       "       [0., 0., 0., 0., 0., 0., 0., 1.],\n",
       "       [0., 0., 0., 0., 0., 0., 1., 0.]])"
      ]
     },
     "execution_count": 17,
     "metadata": {},
     "output_type": "execute_result"
    }
   ],
   "source": [
    "test"
   ]
  },
  {
   "cell_type": "code",
   "execution_count": null,
   "metadata": {},
   "outputs": [],
   "source": []
  }
 ],
 "metadata": {
  "interpreter": {
   "hash": "413796c6c8d0b5423a57f8f0e403532df8fa8a17746bb6e118aada8b6ed2c2e7"
  },
  "kernelspec": {
   "display_name": "Python 3",
   "language": "python",
   "name": "python3"
  },
  "language_info": {
   "codemirror_mode": {
    "name": "ipython",
    "version": 3
   },
   "file_extension": ".py",
   "mimetype": "text/x-python",
   "name": "python",
   "nbconvert_exporter": "python",
   "pygments_lexer": "ipython3",
   "version": "3.8.8"
  }
 },
 "nbformat": 4,
 "nbformat_minor": 2
}
