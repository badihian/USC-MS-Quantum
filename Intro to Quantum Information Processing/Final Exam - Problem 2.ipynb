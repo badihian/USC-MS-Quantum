{
 "cells": [
  {
   "cell_type": "code",
   "execution_count": 1,
   "metadata": {},
   "outputs": [],
   "source": [
    "import numpy as np\n",
    "import math\n",
    "from scipy.linalg import expm"
   ]
  },
  {
   "cell_type": "markdown",
   "metadata": {},
   "source": [
    "<h1>Part A</h1>"
   ]
  },
  {
   "cell_type": "code",
   "execution_count": 28,
   "metadata": {},
   "outputs": [],
   "source": [
    "initial_state = np.zeros((16, 1))\n",
    "initial_state[0][0] = 1"
   ]
  },
  {
   "cell_type": "code",
   "execution_count": 3,
   "metadata": {},
   "outputs": [],
   "source": [
    "X_gate = np.array([[0, 1], [1, 0]])"
   ]
  },
  {
   "cell_type": "code",
   "execution_count": 4,
   "metadata": {},
   "outputs": [],
   "source": [
    "X_2 = np.kron(X_gate, X_gate)"
   ]
  },
  {
   "cell_type": "code",
   "execution_count": 5,
   "metadata": {},
   "outputs": [],
   "source": [
    "e_gate = expm((1.0j * 0.1475835 * math.pi) * X_2)"
   ]
  },
  {
   "cell_type": "code",
   "execution_count": 6,
   "metadata": {},
   "outputs": [
    {
     "data": {
      "text/plain": [
       "array([[0.89442736+0.j        , 0.        +0.j        ,\n",
       "        0.        +0.j        , 0.        +0.44721326j],\n",
       "       [0.        +0.j        , 0.89442736+0.j        ,\n",
       "        0.        +0.44721326j, 0.        +0.j        ],\n",
       "       [0.        +0.j        , 0.        +0.44721326j,\n",
       "        0.89442736+0.j        , 0.        +0.j        ],\n",
       "       [0.        +0.44721326j, 0.        +0.j        ,\n",
       "        0.        +0.j        , 0.89442736+0.j        ]])"
      ]
     },
     "execution_count": 6,
     "metadata": {},
     "output_type": "execute_result"
    }
   ],
   "source": [
    "e_gate"
   ]
  },
  {
   "cell_type": "code",
   "execution_count": 7,
   "metadata": {},
   "outputs": [],
   "source": [
    "e_2 = np.kron(e_gate, e_gate)"
   ]
  },
  {
   "cell_type": "code",
   "execution_count": 8,
   "metadata": {},
   "outputs": [],
   "source": [
    "result = np.matmul(e_2, initial_state)"
   ]
  },
  {
   "cell_type": "code",
   "execution_count": 9,
   "metadata": {},
   "outputs": [
    {
     "data": {
      "text/plain": [
       "array([[1, 0],\n",
       "       [0, 1]])"
      ]
     },
     "execution_count": 9,
     "metadata": {},
     "output_type": "execute_result"
    }
   ],
   "source": [
    "ident = np.array([[1, 0], [0, 1]])\n",
    "ident"
   ]
  },
  {
   "cell_type": "code",
   "execution_count": 10,
   "metadata": {},
   "outputs": [],
   "source": [
    "result = np.matmul(np.kron(ident, np.kron(e_gate, ident)), result)"
   ]
  },
  {
   "cell_type": "code",
   "execution_count": 11,
   "metadata": {},
   "outputs": [
    {
     "data": {
      "text/plain": [
       "array([[ 0.71554215+0.j        ],\n",
       "       [ 0.        +0.j        ],\n",
       "       [ 0.        +0.j        ],\n",
       "       [ 0.        +0.35777074j],\n",
       "       [ 0.        +0.j        ],\n",
       "       [-0.17888521+0.j        ],\n",
       "       [ 0.        +0.35777074j],\n",
       "       [ 0.        +0.j        ],\n",
       "       [ 0.        +0.j        ],\n",
       "       [ 0.        -0.08944252j],\n",
       "       [-0.17888521+0.j        ],\n",
       "       [ 0.        +0.j        ],\n",
       "       [ 0.        +0.35777074j],\n",
       "       [ 0.        +0.j        ],\n",
       "       [ 0.        +0.j        ],\n",
       "       [-0.17888521+0.j        ]])"
      ]
     },
     "execution_count": 11,
     "metadata": {},
     "output_type": "execute_result"
    }
   ],
   "source": [
    "result"
   ]
  },
  {
   "cell_type": "code",
   "execution_count": 12,
   "metadata": {},
   "outputs": [],
   "source": [
    "CNOT = np.array([[1, 0, 0, 0],\n",
    "                 [0, 1, 0, 0],\n",
    "                 [0, 0, 0, 1],\n",
    "                 [0, 0, 1, 0]])"
   ]
  },
  {
   "cell_type": "code",
   "execution_count": 13,
   "metadata": {},
   "outputs": [],
   "source": [
    "result = np.matmul(np.kron(CNOT, e_gate), result)"
   ]
  },
  {
   "cell_type": "code",
   "execution_count": 14,
   "metadata": {},
   "outputs": [
    {
     "data": {
      "text/plain": [
       "array([[ 0.48000065+0.j        ],\n",
       "       [ 0.        +0.j        ],\n",
       "       [ 0.        +0.j        ],\n",
       "       [ 0.        +0.63999988j],\n",
       "       [ 0.        +0.j        ],\n",
       "       [-0.31999965+0.j        ],\n",
       "       [ 0.        +0.2400001j ],\n",
       "       [ 0.        +0.j        ],\n",
       "       [ 0.        +0.2400001j ],\n",
       "       [ 0.        +0.j        ],\n",
       "       [ 0.        +0.j        ],\n",
       "       [-0.31999965+0.j        ],\n",
       "       [ 0.        +0.j        ],\n",
       "       [ 0.        -0.15999967j],\n",
       "       [-0.11999994+0.j        ],\n",
       "       [ 0.        +0.j        ]])"
      ]
     },
     "execution_count": 14,
     "metadata": {},
     "output_type": "execute_result"
    }
   ],
   "source": [
    "result"
   ]
  },
  {
   "cell_type": "code",
   "execution_count": 15,
   "metadata": {},
   "outputs": [],
   "source": [
    "answer_a = result[0][0]**2"
   ]
  },
  {
   "cell_type": "code",
   "execution_count": 16,
   "metadata": {},
   "outputs": [
    {
     "data": {
      "text/plain": [
       "(0.2304006244930291+0j)"
      ]
     },
     "execution_count": 16,
     "metadata": {},
     "output_type": "execute_result"
    }
   ],
   "source": [
    "answer_a"
   ]
  },
  {
   "cell_type": "markdown",
   "metadata": {},
   "source": [
    "<h1>Part B</h1>"
   ]
  },
  {
   "cell_type": "code",
   "execution_count": 17,
   "metadata": {},
   "outputs": [],
   "source": [
    "sum = 0\n",
    "for i in range(8):\n",
    "    sum += abs(result[8+i][0]**2)"
   ]
  },
  {
   "cell_type": "code",
   "execution_count": 18,
   "metadata": {},
   "outputs": [
    {
     "data": {
      "text/plain": [
       "0.19999970431229258"
      ]
     },
     "execution_count": 18,
     "metadata": {},
     "output_type": "execute_result"
    }
   ],
   "source": [
    "sum"
   ]
  },
  {
   "cell_type": "code",
   "execution_count": 19,
   "metadata": {},
   "outputs": [],
   "source": [
    "answer_b = abs(result[8][0]**2)/sum"
   ]
  },
  {
   "cell_type": "markdown",
   "metadata": {},
   "source": [
    "<h1>Part C</h1>"
   ]
  },
  {
   "cell_type": "code",
   "execution_count": 20,
   "metadata": {},
   "outputs": [],
   "source": [
    "result_trans = np.transpose(result)"
   ]
  },
  {
   "cell_type": "code",
   "execution_count": 21,
   "metadata": {},
   "outputs": [],
   "source": [
    "result_trans_conj = np.conjugate(result_trans)"
   ]
  },
  {
   "cell_type": "code",
   "execution_count": 22,
   "metadata": {},
   "outputs": [
    {
     "data": {
      "text/plain": [
       "array([[ 0.48000065-0.j        ,  0.        -0.j        ,\n",
       "         0.        -0.j        ,  0.        -0.63999988j,\n",
       "         0.        -0.j        , -0.31999965-0.j        ,\n",
       "         0.        -0.2400001j ,  0.        -0.j        ,\n",
       "         0.        -0.2400001j ,  0.        -0.j        ,\n",
       "         0.        -0.j        , -0.31999965-0.j        ,\n",
       "         0.        -0.j        ,  0.        +0.15999967j,\n",
       "        -0.11999994-0.j        ,  0.        -0.j        ]])"
      ]
     },
     "execution_count": 22,
     "metadata": {},
     "output_type": "execute_result"
    }
   ],
   "source": [
    "result_trans_conj"
   ]
  },
  {
   "cell_type": "code",
   "execution_count": 23,
   "metadata": {},
   "outputs": [],
   "source": [
    "density_matr = np.matmul(result, result_trans_conj)"
   ]
  },
  {
   "cell_type": "code",
   "execution_count": 24,
   "metadata": {},
   "outputs": [
    {
     "data": {
      "text/plain": [
       "16"
      ]
     },
     "execution_count": 24,
     "metadata": {},
     "output_type": "execute_result"
    }
   ],
   "source": [
    "len(density_matr[0])"
   ]
  },
  {
   "cell_type": "code",
   "execution_count": 25,
   "metadata": {},
   "outputs": [],
   "source": [
    "trace1 = 0\n",
    "trace2 = 0\n",
    "trace3 = 0\n",
    "trace4 = 0\n",
    "for i in range(8):\n",
    "    trace1 += density_matr[i][i]\n",
    "    trace2 += density_matr[i][i+8]\n",
    "    trace3 += density_matr[i+8][i]\n",
    "    trace4 += density_matr[i+8][i+8]"
   ]
  },
  {
   "cell_type": "code",
   "execution_count": 26,
   "metadata": {},
   "outputs": [],
   "source": [
    "density_tr = np.array([[trace1, trace2], [trace3, trace4]])"
   ]
  },
  {
   "cell_type": "code",
   "execution_count": 27,
   "metadata": {},
   "outputs": [
    {
     "data": {
      "text/plain": [
       "array([[0.8000003+0.j        , 0.       -0.39999978j],\n",
       "       [0.       +0.39999978j, 0.1999997+0.j        ]])"
      ]
     },
     "execution_count": 27,
     "metadata": {},
     "output_type": "execute_result"
    }
   ],
   "source": [
    "density_tr"
   ]
  },
  {
   "cell_type": "code",
   "execution_count": null,
   "metadata": {},
   "outputs": [],
   "source": []
  }
 ],
 "metadata": {
  "interpreter": {
   "hash": "413796c6c8d0b5423a57f8f0e403532df8fa8a17746bb6e118aada8b6ed2c2e7"
  },
  "kernelspec": {
   "display_name": "Python 3.9.9 64-bit (windows store)",
   "name": "python3"
  },
  "language_info": {
   "codemirror_mode": {
    "name": "ipython",
    "version": 3
   },
   "file_extension": ".py",
   "mimetype": "text/x-python",
   "name": "python",
   "nbconvert_exporter": "python",
   "pygments_lexer": "ipython3",
   "version": "3.9.9"
  },
  "orig_nbformat": 4
 },
 "nbformat": 4,
 "nbformat_minor": 2
}
